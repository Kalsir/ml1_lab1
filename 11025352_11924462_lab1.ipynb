{
 "cells": [
  {
   "cell_type": "markdown",
   "metadata": {},
   "source": [
    "# **Save this file as studentid1_studentid2_lab#.ipynb**\n",
    "(Your student-id is the number shown on your student card.)\n",
    "\n",
    "E.g. if you work with 3 people, the notebook should be named:\n",
    "12301230_3434343_1238938934_lab1.ipynb.\n",
    "\n",
    "**This will be parsed by a regexp, so please double check your filename.**\n",
    "\n",
    "Before you turn this problem in, please make sure everything runs correctly. First, **restart the kernel** (in the menubar, select Kernel$\\rightarrow$Restart) and then **run all cells** (in the menubar, select Cell$\\rightarrow$Run All). Note, that **you are not allowed to use Google Colab**.\n",
    "\n",
    "**Make sure you fill in any place that says `YOUR CODE HERE` or \"YOUR ANSWER HERE\", as well as your names and email adresses below.**\n",
    "\n"
   ]
  },
  {
   "cell_type": "code",
   "execution_count": 3,
   "metadata": {},
   "outputs": [],
   "source": [
    "NAME = \"Sylke Gosen\"\n",
    "NAME2 = \"Nima Motamed\"\n",
    "EMAIL = \"sylkegosen@hotmail.com\"\n",
    "EMAIL2 = \"nmotamed22@gmail.com\""
   ]
  },
  {
   "cell_type": "markdown",
   "metadata": {
    "deletable": false,
    "editable": false,
    "nbgrader": {
     "checksum": "0729b8b790c2427547226ce73fb5dc94",
     "grade": false,
     "grade_id": "cell-447a8ab4c82429ab",
     "locked": true,
     "schema_version": 1,
     "solution": false
    }
   },
   "source": [
    "# Lab 1: Linear Regression and Overfitting\n",
    "\n",
    "### Machine Learning 1, November 2018\n",
    "\n",
    "Notes on implementation:\n",
    "\n",
    "* You should write your code and answers in this IPython Notebook: http://ipython.org/notebook.html. If you have problems, please contact your teaching assistant.\n",
    "* Please write your answers right below the questions.\n",
    "* Among the first lines of your notebook should be \"%pylab inline\". This imports all required modules, and your plots will appear inline.\n",
    "* Refer to last week's lab notes, i.e. http://docs.scipy.org/doc/, if you are unsure about what function to use. There are different correct ways to implement each problem!\n",
    "* For this lab, your regression solutions should be in closed form, i.e., should not perform iterative gradient-based optimization but find the exact optimum directly.\n",
    "* use the provided test boxes to check if your answers are correct"
   ]
  },
  {
   "cell_type": "code",
   "execution_count": 4,
   "metadata": {
    "deletable": false,
    "editable": false,
    "nbgrader": {
     "checksum": "9c278ee9abc89a5ef5d829c1049141d2",
     "grade": false,
     "grade_id": "cell-a31fbe1e5a0de9bb",
     "locked": true,
     "schema_version": 1,
     "solution": false
    }
   },
   "outputs": [
    {
     "name": "stdout",
     "output_type": "stream",
     "text": [
      "Populating the interactive namespace from numpy and matplotlib\n"
     ]
    }
   ],
   "source": [
    "%pylab inline\n",
    "plt.rcParams[\"figure.figsize\"] = [20,10]"
   ]
  },
  {
   "cell_type": "code",
   "execution_count": 5,
   "metadata": {
    "deletable": false,
    "editable": false,
    "nbgrader": {
     "checksum": "b8f7cda7af52c167af0093d9957406f3",
     "grade": false,
     "grade_id": "cell-369c3e293a3f9c73",
     "locked": true,
     "schema_version": 1,
     "solution": false
    }
   },
   "outputs": [],
   "source": [
    "# This cell makes sure that you have all the necessary libraries installed\n",
    "\n",
    "import sys\n",
    "import platform\n",
    "from importlib.util import find_spec, module_from_spec\n",
    "\n",
    "def check_newer_version(version_inst, version_nec):\n",
    "    version_inst_split = version_inst.split('.')\n",
    "    version_nec_split = version_nec.split('.')\n",
    "    for i in range(min(len(version_inst_split), len(version_nec_split))):\n",
    "        if int(version_nec_split[i]) > int(version_inst_split[i]):\n",
    "            return False\n",
    "        elif int(version_nec_split[i]) < int(version_inst_split[i]):\n",
    "            return True\n",
    "    return True\n",
    "\n",
    "\n",
    "module_list = [('jupyter', '1.0.0'), \n",
    "               ('matplotlib', '2.0.2'), \n",
    "               ('numpy', '1.13.1'), \n",
    "               ('python', '3.6.2'), \n",
    "               ('sklearn', '0.19.0'), \n",
    "               ('scipy', '0.19.1'), \n",
    "               ('nb_conda', '2.2.1')]\n",
    "\n",
    "packages_correct = True\n",
    "packages_errors = []\n",
    "\n",
    "for module_name, version in module_list:\n",
    "    if module_name == 'scikit-learn':\n",
    "        module_name = 'sklearn'\n",
    "    if 'python' in module_name:\n",
    "        python_version = platform.python_version()\n",
    "        if not check_newer_version(python_version, version):\n",
    "            packages_correct = False\n",
    "            error = f'Update {module_name} to version {version}. Current version is {python_version}.'\n",
    "            packages_errors.append(error) \n",
    "            print(error)\n",
    "    else:\n",
    "        spec = find_spec(module_name)\n",
    "        if spec is None:\n",
    "            packages_correct = False\n",
    "            error = f'Install {module_name} with version {version} or newer, it is required for this assignment!'\n",
    "            packages_errors.append(error) \n",
    "            print(error)\n",
    "        else:\n",
    "            x = __import__(module_name)\n",
    "            if hasattr(x, '__version__') and not check_newer_version(x.__version__, version):\n",
    "                packages_correct = False\n",
    "                error = f'Update {module_name} to version {version}. Current version is {x.__version__}.'\n",
    "                packages_errors.append(error) \n",
    "                print(error)\n",
    "\n",
    "try:\n",
    "    from google.colab import drive\n",
    "    packages_correct = False\n",
    "    error = \"\"\"Please, don't use google colab!\n",
    "It will make it much more complicated for us to check your homework as it merges all the cells into one.\"\"\"\n",
    "    packages_errors.append(error) \n",
    "    print(error)\n",
    "except:\n",
    "    pass\n",
    "\n",
    "packages_errors = '\\n'.join(packages_errors)"
   ]
  },
  {
   "cell_type": "markdown",
   "metadata": {
    "deletable": false,
    "editable": false,
    "nbgrader": {
     "checksum": "da272b2022410b91aa71d1666edbc7d0",
     "grade": false,
     "grade_id": "cell-b10d09d2f9867804",
     "locked": true,
     "schema_version": 1,
     "solution": false
    }
   },
   "source": [
    "$\\newcommand{\\bPhi}{\\mathbf{\\Phi}}$\n",
    "$\\newcommand{\\bx}{\\mathbf{x}}$\n",
    "$\\newcommand{\\bw}{\\mathbf{w}}$\n",
    "$\\newcommand{\\bt}{\\mathbf{t}}$\n",
    "$\\newcommand{\\by}{\\mathbf{y}}$\n",
    "$\\newcommand{\\bm}{\\mathbf{m}}$\n",
    "$\\newcommand{\\bS}{\\mathbf{S}}$\n",
    "$\\newcommand{\\bI}{\\mathbf{I}}$\n",
    "\n",
    "## Part 1: Polynomial Regression"
   ]
  },
  {
   "cell_type": "markdown",
   "metadata": {
    "deletable": false,
    "editable": false,
    "nbgrader": {
     "checksum": "222057e7937626e8d3ce585b56577fb9",
     "grade": false,
     "grade_id": "cell-505d034435d52b27",
     "locked": true,
     "schema_version": 1,
     "solution": false
    }
   },
   "source": [
    "### 1.1. Generate periodic data (5 points)\n",
    "Write a method `gen_sine(N)` that generates toy data like in fig 1.2 of Bishop's book. The method should have a parameter $N$, and should return $N$-dimensional vectors $\\bx$ and $\\bt$, where $\\bx$ contains evenly spaced values from 0 to (including) 2$\\pi$, and the elements $t_i$ of $\\bt$ are distributed according to:\n",
    "\n",
    "$$t_i \\sim \\mathcal{N}(\\mu_i, \\sigma^2)$$\n",
    "\n",
    "where $x_i$ is the $i$-th elements of $\\bf{x}$, the mean $\\mu_i = \\sin(x_i)$ and the standard deviation $\\sigma = 0.25$.\n"
   ]
  },
  {
   "cell_type": "code",
   "execution_count": 6,
   "metadata": {
    "deletable": false,
    "nbgrader": {
     "checksum": "49937550875b0f9110c39ecfeca2e48e",
     "grade": false,
     "grade_id": "cell-1c8c68d862f80f7e",
     "locked": false,
     "schema_version": 1,
     "solution": true
    }
   },
   "outputs": [],
   "source": [
    "def gen_sine(n):\n",
    "    x = np.linspace(0, 2*np.pi, n)\n",
    "    t = np.random.normal(sin(x), 0.25)\n",
    "    return x, t"
   ]
  },
  {
   "cell_type": "code",
   "execution_count": 7,
   "metadata": {
    "deletable": false,
    "editable": false,
    "nbgrader": {
     "checksum": "06c7e4b785bfefb251544e053366c004",
     "grade": true,
     "grade_id": "cell-afc3c8025a62af85",
     "locked": true,
     "points": 5,
     "schema_version": 1,
     "solution": false
    }
   },
   "outputs": [],
   "source": [
    "### Test your function\n",
    "np.random.seed(42)\n",
    "N = 10\n",
    "x, t = gen_sine(N)\n",
    "\n",
    "assert x.shape == (N,), \"the shape of x is incorrect\"\n",
    "assert t.shape == (N,), \"the shape of t is incorrect\"\n",
    "\n"
   ]
  },
  {
   "cell_type": "markdown",
   "metadata": {
    "deletable": false,
    "editable": false,
    "nbgrader": {
     "checksum": "36f1c468a11a98927757083b3f43db4d",
     "grade": false,
     "grade_id": "cell-22a999e8760129f8",
     "locked": true,
     "schema_version": 1,
     "solution": false
    }
   },
   "source": [
    "### 1.2 Polynomial regression (10 points)\n",
    "\n",
    "Write a method `fit_polynomial(x, t, M)` that finds the maximum-likelihood solution of an _unregularized_ $M$-th order polynomial for some dataset `x`. The error function to minimize w.r.t. $\\bw$ is:\n",
    "\n",
    "$E(\\bw) = \\frac{1}{2} (\\bPhi\\bw - \\bt)^T(\\bPhi\\bw - \\bt)$\n",
    "\n",
    "where $\\bPhi$ is the _feature matrix_ (or _design matrix_) as explained in Bishop's book at section 3.1.1, $\\bt$ is the vector of target values. Your method should return a vector $\\bw$ with the maximum-likelihood parameter estimates, as well as the _feature matrix_ $\\bPhi$."
   ]
  },
  {
   "cell_type": "code",
   "execution_count": 8,
   "metadata": {
    "deletable": false,
    "nbgrader": {
     "checksum": "e5f21a1de6f35ff5c520db69540d71c7",
     "grade": false,
     "grade_id": "cell-27b0d6f1bcdeb97b",
     "locked": false,
     "schema_version": 1,
     "solution": true
    }
   },
   "outputs": [],
   "source": [
    "def designmatrix(x, M): \n",
    "    Phi = np.ones((x.shape[0], M+1))\n",
    "    for i in range (1, M+1):\n",
    "        Phi[:,i] = Phi[:,i-1]*x\n",
    "    return Phi\n",
    "        \n",
    "def fit_polynomial(x, t, M):\n",
    "    Phi = designmatrix(x, M)\n",
    "    w_ml = np.linalg.inv(Phi.transpose().dot(Phi)).dot(Phi.transpose()).dot(t)\n",
    "    return w_ml, Phi\n"
   ]
  },
  {
   "cell_type": "code",
   "execution_count": 9,
   "metadata": {
    "deletable": false,
    "editable": false,
    "nbgrader": {
     "checksum": "aee102b771959870c601033ab5ac8a8e",
     "grade": true,
     "grade_id": "cell-7e0f87e75d7c82aa",
     "locked": true,
     "points": 10,
     "schema_version": 1,
     "solution": false
    }
   },
   "outputs": [],
   "source": [
    "### Test your function\n",
    "N = 10\n",
    "x = np.square((np.linspace(-1, 1, N)))\n",
    "t = 0.3*x + 2.5\n",
    "m = 2\n",
    "w, Phi = fit_polynomial(x,t,m)\n",
    "\n",
    "assert w.shape == (m+1,), \"The shape of w is incorrect\"\n",
    "assert Phi.shape == (N, m+1), \"The shape of Phi is incorrect\"\n",
    "\n"
   ]
  },
  {
   "cell_type": "markdown",
   "metadata": {
    "deletable": false,
    "editable": false,
    "nbgrader": {
     "checksum": "36a4843effb733479987c3d11dba190f",
     "grade": false,
     "grade_id": "cell-f4d51f8338ebdb54",
     "locked": true,
     "schema_version": 1,
     "solution": false
    }
   },
   "source": [
    "### 1.3 Plot (5 points)\n",
    "Sample a dataset with $N=10$, and fit four polynomials with $M \\in (0, 2, 4, 8)$.\n",
    "For each value of $M$, plot the prediction function, along with the data and the original sine function. The resulting figure should look similar to fig 1.4 of the Bishop's book. Note that you can use matplotlib's `plt.pyplot(.)` functionality for creating grids of figures."
   ]
  },
  {
   "cell_type": "code",
   "execution_count": 10,
   "metadata": {
    "deletable": false,
    "nbgrader": {
     "checksum": "0009313fff1f2cd716d4e81f0f2ec5ff",
     "grade": true,
     "grade_id": "cell-2774a098ae80cb7e",
     "locked": false,
     "points": 5,
     "schema_version": 1,
     "solution": true
    },
    "scrolled": true
   },
   "outputs": [
    {
     "data": {
      "image/png": "[encoded data removed]",
      "text/plain": [
       "<matplotlib.figure.Figure at 0x1c9736b6b70>"
      ]
     },
     "metadata": {
      "needs_background": "light"
     },
     "output_type": "display_data"
    }
   ],
   "source": [
    "def plot_subplot(position, M, x , t):\n",
    "    position.scatter(x, t, facecolors=\"none\", edgecolors=\"b\")\n",
    "    z = np.linspace(0,2*np.pi,1000)\n",
    "    w, Phi = fit_polynomial(x, t, M)\n",
    "    position.plot(z,sin(z), \"g-\")\n",
    "    position.plot(z,designmatrix(z,M).dot(w), \"r-\")\n",
    "    position.set_title(\"M = \" + str(M))\n",
    "\n",
    "N = 10\n",
    "x, t = gen_sine(N)\n",
    "fig, axs = plt.subplots(2, 2)\n",
    "plot_subplot(axs[0,0], 0, x, t)\n",
    "plot_subplot(axs[0,1], 2, x, t)\n",
    "plot_subplot(axs[1,0], 4, x, t)\n",
    "plot_subplot(axs[1,1], 8, x, t)\n",
    "plt.subplots_adjust(hspace = 0.4)"
   ]
  },
  {
   "cell_type": "markdown",
   "metadata": {
    "deletable": false,
    "editable": false,
    "nbgrader": {
     "checksum": "8cfb34f3c48cb57d65c4e054c3dd7418",
     "grade": false,
     "grade_id": "cell-2597ee45cb3998ed",
     "locked": true,
     "schema_version": 1,
     "solution": false
    }
   },
   "source": [
    "### 1.4 Regularized linear regression (15 points)\n",
    "\n",
    "a) (10 points) Write a method `fit_polynomial_reg(x, t, M, lamb)` that fits a _regularized_ $M$-th order polynomial to the periodic data, as discussed in the lectures, where `lamb` is the regularization term _lambda_. (Note that 'lambda' cannot be used as a variable name in Python since it has a special meaning). The error function to minimize w.r.t. $\\bw$:\n",
    "\n",
    "$E(\\bw) = \\frac{1}{2} (\\bPhi\\bw - \\bt)^T(\\bPhi\\bw - \\bt) + \\frac{\\lambda}{2} \\mathbf{w}^T \\mathbf{w}$\n",
    "\n",
    "For background, see section 3.1.4 of Bishop's book.\n",
    "\n",
    "The function should return $\\bw$ and $\\bPhi$."
   ]
  },
  {
   "cell_type": "code",
   "execution_count": 11,
   "metadata": {
    "deletable": false,
    "nbgrader": {
     "checksum": "dc76736fba956e5d9cc51a318c2507c3",
     "grade": false,
     "grade_id": "cell-9fe81fd5537daff9",
     "locked": false,
     "schema_version": 1,
     "solution": true
    }
   },
   "outputs": [],
   "source": [
    "def fit_polynomial_reg(x, t, M, lamb):\n",
    "    Phi = designmatrix(x, M)\n",
    "    w_ml = np.linalg.inv(np.diag([lamb]*(M+1)) + Phi.transpose().dot(Phi)).dot(Phi.transpose()).dot(t)\n",
    "    return w_ml, Phi"
   ]
  },
  {
   "cell_type": "code",
   "execution_count": 12,
   "metadata": {
    "deletable": false,
    "editable": false,
    "nbgrader": {
     "checksum": "2b443062a7e281404e30b7df44006c53",
     "grade": true,
     "grade_id": "cell-a2e561cbc5a4140b",
     "locked": true,
     "points": 10,
     "schema_version": 1,
     "solution": false
    }
   },
   "outputs": [],
   "source": [
    "### Test your function\n",
    "N = 10\n",
    "x = np.square((np.linspace(-1, 1, N)))\n",
    "t = 0.3*x + 2.5\n",
    "m = 2\n",
    "lamb = 0.1\n",
    "w, Phi = fit_polynomial_reg(x,t,m, lamb)\n",
    "\n",
    "assert w.shape == (m+1,), \"The shape of w is incorrect\"\n",
    "assert Phi.shape == (N, m+1), \"The shape of w is incorrect\" \n",
    "\n"
   ]
  },
  {
   "cell_type": "markdown",
   "metadata": {
    "deletable": false,
    "editable": false,
    "nbgrader": {
     "checksum": "ea5bca3093d0e988f19fa864f92f3273",
     "grade": false,
     "grade_id": "cell-ef31ad7f9dde2832",
     "locked": true,
     "schema_version": 1,
     "solution": false
    }
   },
   "source": [
    "b) (5 points) What changes do you notice in $\\bw$ and $\\bPhi$ after introducing the regularization term? Why is this happening? \n",
    "\n",
    "(Write no more than 5 lines. For example, you can consider the simple test case with $t = 0.3*x + 2.5$)"
   ]
  },
  {
   "cell_type": "markdown",
   "metadata": {
    "deletable": false,
    "nbgrader": {
     "checksum": "8990249d9a7d7ab5efc9132556eedc79",
     "grade": true,
     "grade_id": "cell-b13920c70ed20823",
     "locked": false,
     "points": 5,
     "schema_version": 1,
     "solution": true
    }
   },
   "source": [
    "Phi is unaffected by this as the basis function representation does not change. The w values without regularization almost exactly match the polynomial target function which is unsuprising because a polynomial of order 2 can be modeled exactly using a polynomial of order 2. Introducing the regularization brings the weights closer together. To do: Expand this answer."
   ]
  },
  {
   "cell_type": "markdown",
   "metadata": {
    "deletable": false,
    "editable": false,
    "nbgrader": {
     "checksum": "5c92f9ff9dd282413a3952250b7808f2",
     "grade": false,
     "grade_id": "cell-638bbedf69267917",
     "locked": true,
     "schema_version": 1,
     "solution": false
    }
   },
   "source": [
    "\n",
    "\n",
    "\n",
    "\n",
    "\n",
    "### 1.5 Model selection by cross-validation (15 points)\n",
    "Use cross-validation to find a good choice of $M$ and $\\lambda$, given a dataset of $N=10$ datapoints generated with `gen_sine(10)`. You should write a function that tries (loops over) a reasonable range of choices of $M$ and $\\lambda$, and returns the choice with the best cross-validation error. In this case you use $K=5$ folds.\n",
    "\n",
    "You can let $M \\in (0, 1, ..., 10)$, and let $\\lambda \\in (e^{-10}, e^{-9}, ..., e^{0})$.\n",
    "\n",
    "a) (5 points) First of all, write a method `pred_error(x_train, x_valid, t_train, t_valid, M, lamb)` that compares the prediction of your method `fit_polynomial_reg` for a given set of parameters $M$ and $\\lambda$ to `t_valid`. It should return the prediction error for a single fold."
   ]
  },
  {
   "cell_type": "code",
   "execution_count": 13,
   "metadata": {
    "deletable": false,
    "nbgrader": {
     "checksum": "2cfb7f4cc04e4af74f4655e772e33b09",
     "grade": false,
     "grade_id": "cell-d631a845dec603be",
     "locked": false,
     "schema_version": 1,
     "solution": true
    },
    "scrolled": true
   },
   "outputs": [],
   "source": [
    "def pred_error(x_train, x_valid, t_train, t_valid, M, reg):\n",
    "    w, Phi = fit_polynomial_reg(x_train,t_train, M, reg)\n",
    "    pred_err = np.sum(np.square(designmatrix(x_valid, M).dot(w)-t_valid)) \n",
    "    return pred_err"
   ]
  },
  {
   "cell_type": "code",
   "execution_count": 14,
   "metadata": {
    "deletable": false,
    "editable": false,
    "nbgrader": {
     "checksum": "42af593fbc74b19e94e38035eecbcb8f",
     "grade": true,
     "grade_id": "cell-ba7261e2eae040fd",
     "locked": true,
     "points": 5,
     "schema_version": 1,
     "solution": false
    }
   },
   "outputs": [],
   "source": [
    "### Test your function\n",
    "N = 10\n",
    "x = np.linspace(-1, 1, N)\n",
    "t = 0.3*np.square(x) + 2.5\n",
    "M = 2\n",
    "reg = 0.1\n",
    "pred_err = pred_error(x[:-2], x[-2:], t[:-2], t[-2:], M, reg)\n",
    "\n",
    "assert pred_err < 0.001, \"pred_err is too big\"\n",
    "\n"
   ]
  },
  {
   "cell_type": "markdown",
   "metadata": {
    "deletable": false,
    "editable": false,
    "nbgrader": {
     "checksum": "0e6aab76a18a6ef5f13d92c330d3cd5c",
     "grade": false,
     "grade_id": "cell-4c1ef9acd1f93493",
     "locked": true,
     "schema_version": 1,
     "solution": false
    }
   },
   "source": [
    "b) (10 points) Now write a method find_best_m_and_lamb(x, t) that finds the best values for $M$ and $\\lambda$. The method should return the best $M$ and $\\lambda$. To get you started, here is a method you can use to generate indices of cross-validation folds."
   ]
  },
  {
   "cell_type": "code",
   "execution_count": 15,
   "metadata": {
    "deletable": false,
    "editable": false,
    "nbgrader": {
     "checksum": "d673ab5c8a9231852af04a728bf93253",
     "grade": false,
     "grade_id": "cell-9abfee773ee6f780",
     "locked": true,
     "schema_version": 1,
     "solution": false
    }
   },
   "outputs": [],
   "source": [
    "def kfold_indices(N, k):\n",
    "    all_indices = np.arange(N,dtype=int)\n",
    "    np.random.shuffle(all_indices)\n",
    "    idx = [int(i) for i in np.floor(np.linspace(0,N,k+1))]\n",
    "    train_folds = []\n",
    "    valid_folds = []\n",
    "    for fold in range(k):\n",
    "        valid_indices = all_indices[idx[fold]:idx[fold+1]]\n",
    "        valid_folds.append(valid_indices)\n",
    "        train_folds.append(np.setdiff1d(all_indices, valid_indices))\n",
    "    return train_folds, valid_folds\n"
   ]
  },
  {
   "cell_type": "code",
   "execution_count": 16,
   "metadata": {
    "deletable": false,
    "nbgrader": {
     "checksum": "65930a94ed4b46300fcf5aef054662a0",
     "grade": false,
     "grade_id": "cell-0553f08188fbfcd6",
     "locked": false,
     "schema_version": 1,
     "solution": true
    }
   },
   "outputs": [],
   "source": [
    "def find_best_m_and_lamb(x, t):\n",
    "    folds = 5\n",
    "    train_folds, valid_folds = kfold_indices(x.shape[0], folds)\n",
    "    \n",
    "    M_best = 0\n",
    "    lamb_best = 0\n",
    "    best_total_error = 1000\n",
    "    \n",
    "    for M in list(range(11)):\n",
    "        for lamb in [np.e**-x for x in range(11)]:\n",
    "            total_error = 0\n",
    "            for i in range (folds):\n",
    "                train_indices = train_folds[i]\n",
    "                valid_indices = valid_folds[i]\n",
    "                total_error += pred_error(x[train_indices], x[valid_indices], t[train_indices], t[valid_indices], M, lamb)\n",
    "            if total_error < best_total_error:\n",
    "                best_total_error = total_error\n",
    "                M_best = M\n",
    "                lamb_best = lamb\n",
    "\n",
    "    return M_best, lamb_best"
   ]
  },
  {
   "cell_type": "code",
   "execution_count": 17,
   "metadata": {
    "deletable": false,
    "editable": false,
    "nbgrader": {
     "checksum": "09809a3d53a4725b396bbe8b4526cb19",
     "grade": true,
     "grade_id": "cell-523aa38e51c8913c",
     "locked": true,
     "points": 10,
     "schema_version": 1,
     "solution": false
    }
   },
   "outputs": [],
   "source": [
    "### If you want you can write your own test here"
   ]
  },
  {
   "cell_type": "markdown",
   "metadata": {
    "deletable": false,
    "editable": false,
    "nbgrader": {
     "checksum": "deeea83a847700e394b4255c8a87b84e",
     "grade": false,
     "grade_id": "cell-bef728e3824c8408",
     "locked": true,
     "schema_version": 1,
     "solution": false
    }
   },
   "source": [
    "### 1.6 Why grid search? (5 points)\n",
    "\n",
    "Grid search is an commonly-used technique to tune hyper-parameters in a model.\n",
    "Considering the case described in the previous step of this assignment, running a grid search over the possible parameter values (10 possible values for both $M$ and $\\lambda$), results in two nested loops exploring $10 \\times 10 = 100$ different configurations for the model. \n",
    "\n",
    "a) (3 points) Why do we want to optimize by changing the two hyperparameters at the same time, and not in a sequential way? We could initialise all parameters randomly, fix one parameter at a time and iterate over the other, resulting in only $10 + 10 = 20$ experiments!"
   ]
  },
  {
   "cell_type": "markdown",
   "metadata": {
    "deletable": false,
    "nbgrader": {
     "checksum": "de61dba67bed18b05301143c8a05a6c0",
     "grade": true,
     "grade_id": "cell-6bc03518283a57c2",
     "locked": false,
     "points": 3,
     "schema_version": 1,
     "solution": true
    }
   },
   "source": [
    "Because the parameters are not nescesarily independent. How one parameter affects the performance could depend on the values of all other parameters. "
   ]
  },
  {
   "cell_type": "markdown",
   "metadata": {
    "deletable": false,
    "editable": false,
    "nbgrader": {
     "checksum": "2214afd7a561b8d9aa209e79be97e557",
     "grade": false,
     "grade_id": "cell-bea7dd205dc0bb91",
     "locked": true,
     "schema_version": 1,
     "solution": false
    }
   },
   "source": [
    "For more complex models, the number of combinations easily explodes with the number of parameters. For example, with 5 parameters we would run $10 \\times 10 \\times 10 \\times 10 \\times 10 = 100,000$ experiments.\n",
    "\n",
    "b) (2 points) Try to think or find in literature one alternative to grid search to tune hyper-parameters more efficiently. Explain very briefly (2-3 lines max) how this method avoids the combinatorial explosion we have see in grid search."
   ]
  },
  {
   "cell_type": "markdown",
   "metadata": {
    "deletable": false,
    "nbgrader": {
     "checksum": "10466bc2141b57ba22c6697bbbfb4e34",
     "grade": true,
     "grade_id": "cell-9bca3266ec3a3b4f",
     "locked": false,
     "points": 2,
     "schema_version": 1,
     "solution": true
    }
   },
   "source": [
    "By mapping hyperparameters to a prediction error we create a hyperparameter landscape which can be searched through with various optimization algorithms. Every time we evaluate a set of parameters we take one sample from this landscape. Grid search samples this landscape along a grid which completely ignores any structure in the landscape. We could instead, for example, use an evolutionary algorithm to more intelligently search through this space. "
   ]
  },
  {
   "cell_type": "markdown",
   "metadata": {
    "deletable": false,
    "editable": false,
    "nbgrader": {
     "checksum": "818d2036edbff780a450e6e1f4123eff",
     "grade": false,
     "grade_id": "cell-13e48288f0ba37af",
     "locked": true,
     "schema_version": 1,
     "solution": false
    }
   },
   "source": [
    "### 1.7 Plot best cross-validated fit (5 points)\n",
    "\n",
    "For some dataset with $N = 10$, plot the model with the optimal $M$ and $\\lambda$ according to the cross-validation error, using the method you just wrote. In addition, the plot should show the dataset itself and the function that we try to approximate. Let the plot make clear which $M$ and $\\lambda$ were found."
   ]
  },
  {
   "cell_type": "code",
   "execution_count": 18,
   "metadata": {
    "deletable": false,
    "nbgrader": {
     "checksum": "9600d75426aa084eff763220c868f3da",
     "grade": true,
     "grade_id": "cell-f59cac6f24ce02fc",
     "locked": false,
     "points": 5,
     "schema_version": 1,
     "solution": true
    }
   },
   "outputs": [
    {
     "data": {
      "text/plain": [
       "<matplotlib.legend.Legend at 0x1c9748c9ac8>"
      ]
     },
     "execution_count": 18,
     "metadata": {},
     "output_type": "execute_result"
    },
    {
     "data": {
      "image/png": "[encoded data removed]",
      "text/plain": [
       "<matplotlib.figure.Figure at 0x1c9736972e8>"
      ]
     },
     "metadata": {
      "needs_background": "light"
     },
     "output_type": "display_data"
    }
   ],
   "source": [
    "N = 10\n",
    "x, t = gen_sine(N)\n",
    "m, lamb = find_best_m_and_lamb(x, t)\n",
    "\n",
    "plt.scatter(x, t, facecolors=\"none\", edgecolors=\"b\")\n",
    "z = np.linspace(0,2*np.pi,1000)\n",
    "w, Phi = fit_polynomial_reg(x, t, m, lamb)\n",
    "plt.plot(z,sin(z), \"g-\")\n",
    "plt.plot(z,designmatrix(z,m).dot(w), \"r-\", label = \"μ = \" + str(m) + \", λ = \" + str(round(lamb, 4)))\n",
    "plt.legend()\n"
   ]
  },
  {
   "cell_type": "markdown",
   "metadata": {
    "deletable": false,
    "editable": false,
    "nbgrader": {
     "checksum": "ba08cfc59239d89d38121e2922388632",
     "grade": false,
     "grade_id": "cell-f471e0e0ddf7667a",
     "locked": true,
     "schema_version": 1,
     "solution": false
    }
   },
   "source": [
    "## Part 2: Bayesian Linear (Polynomial) Regression\n",
    "\n",
    "### 2.1 Sine 2 (5 points)\n",
    "\n",
    "Write a function `gen_sine2(N)` that behaves identically to `gen_sine(N)` except that the generated values $x_i$ are not linearly spaced, but drawn from a uniform distribution between $0$ and $2 \\pi$."
   ]
  },
  {
   "cell_type": "code",
   "execution_count": null,
   "metadata": {
    "deletable": false,
    "nbgrader": {
     "checksum": "734894a81470d4d49711de0c90998d3e",
     "grade": false,
     "grade_id": "cell-36addc88e1b3fe1d",
     "locked": false,
     "schema_version": 1,
     "solution": true
    }
   },
   "outputs": [],
   "source": [
    "def gen_sine2(n):\n",
    "    # YOUR CODE HERE\n",
    "    raise NotImplementedError()\n",
    "    \n",
    "    return x, t\n"
   ]
  },
  {
   "cell_type": "code",
   "execution_count": null,
   "metadata": {
    "deletable": false,
    "editable": false,
    "nbgrader": {
     "checksum": "7003ef4307addbc6046a90a60fa9a83c",
     "grade": true,
     "grade_id": "cell-57a847b66fb591af",
     "locked": true,
     "points": 5,
     "schema_version": 1,
     "solution": false
    }
   },
   "outputs": [],
   "source": [
    "### Test your function\n",
    "np.random.seed(42)\n",
    "N = 10\n",
    "x, t = gen_sine2(N)\n",
    "\n",
    "assert x.shape == (N,), \"the shape of x is incorrect\"\n",
    "assert t.shape == (N,), \"the shape of t is incorrect\"\n",
    "\n"
   ]
  },
  {
   "cell_type": "markdown",
   "metadata": {
    "deletable": false,
    "editable": false,
    "nbgrader": {
     "checksum": "e412c3e7676415a100329fdc5b083963",
     "grade": false,
     "grade_id": "cell-61f32a9b299aa500",
     "locked": true,
     "schema_version": 1,
     "solution": false
    }
   },
   "source": [
    "### 2.2 Compute Posterior (15 points)\n",
    "\n",
    "You're going to implement a Bayesian linear regression model, and fit it to the periodic data. Your regression model has a zero-mean isotropic Gaussian prior over the parameters, governed by a single (scalar) precision parameter $\\alpha$, i.e.:\n",
    "\n",
    "$$p(\\bw \\;|\\; \\alpha) = \\mathcal{N}(\\bw \\;|\\; 0, \\alpha^{-1} \\bI)$$\n",
    "\n",
    "The covariance and mean of the posterior are given by:\n",
    "\n",
    "$$\\bS_N= \\left( \\alpha \\bI + \\beta \\bPhi^T \\bPhi \\right)^{-1} $$\n",
    "$$\\bm_N = \\beta\\; \\bS_N \\bPhi^T \\bt$$\n",
    "\n",
    "where $\\alpha$ is the precision of the predictive distribution, and $\\beta$ is the noise precision. \n",
    "See MLPR chapter 3.3 for background.\n",
    "\n",
    "Write a method `fit_polynomial_bayes(x, t, M, alpha, beta)` that returns the mean $\\bm_N$ and covariance $\\bS_N$ of the posterior for a $M$-th order polynomial. In addition it should return the design matrix $\\bPhi$. The arguments `x`, `t` and `M` have the same meaning as in question 1.2."
   ]
  },
  {
   "cell_type": "code",
   "execution_count": null,
   "metadata": {
    "deletable": false,
    "nbgrader": {
     "checksum": "a945f997e9dec6b173c23a922ef773b3",
     "grade": false,
     "grade_id": "cell-24d68ce462db8f40",
     "locked": false,
     "schema_version": 1,
     "solution": true
    }
   },
   "outputs": [],
   "source": [
    "def fit_polynomial_bayes(x, t, M, alpha, beta):\n",
    "    # YOUR CODE HERE\n",
    "    raise NotImplementedError()\n",
    "    \n",
    "    return m, S, Phi\n"
   ]
  },
  {
   "cell_type": "code",
   "execution_count": null,
   "metadata": {
    "deletable": false,
    "editable": false,
    "nbgrader": {
     "checksum": "57b6869c4ee7ece5b4ecc93c5d8b3d0b",
     "grade": true,
     "grade_id": "cell-5cf266fca46cd4e9",
     "locked": true,
     "points": 15,
     "schema_version": 1,
     "solution": false
    }
   },
   "outputs": [],
   "source": [
    "### Test your function\n",
    "N = 10\n",
    "x = np.linspace(-1, 1, N)\n",
    "t = 0.3*np.square(x) + 2.5\n",
    "M = 2\n",
    "alpha = 0.6\n",
    "beta = 16\n",
    "m, S, Phi = fit_polynomial_bayes(x, t, M, alpha, beta)\n",
    "\n",
    "assert m.shape == (M+1,), \"the shape of m is incorrect\" \n",
    "assert S.shape == (M+1, M+1), \"the shape of S is incorrect\"\n",
    "assert Phi.shape == (N, M+1), \"the shape of Phi is incorrect\"\n",
    "\n"
   ]
  },
  {
   "cell_type": "markdown",
   "metadata": {
    "deletable": false,
    "editable": false,
    "nbgrader": {
     "checksum": "a598daf8d35262215ce9deda7cc4bb7b",
     "grade": false,
     "grade_id": "cell-471f21c230ca4203",
     "locked": true,
     "schema_version": 1,
     "solution": false
    }
   },
   "source": [
    "### 2.3 Prediction (10 points)\n",
    "\n",
    "The predictive distribution of Bayesian linear regression is:\n",
    "\n",
    "$$ p(t \\;|\\; \\bx, \\bt, \\alpha, \\beta) = \\mathcal{N}(t \\;|\\; \\bm_N^T \\phi(\\bx), \\sigma_N^2(\\bx))$$\n",
    "\n",
    "$$ \\sigma_N^2 = \\frac{1}{\\beta} + \\phi(\\bx)^T \\bS_N \\phi(\\bx) $$\n",
    "\n",
    "where $\\phi(\\bx)$ are the computed features for a new datapoint $\\bx$, and $t$ is the predicted variable for datapoint $\\bx$. \n",
    "\n",
    "Write a function that `predict_polynomial_bayes(x, m, S, beta)` that returns the predictive mean, variance and design matrix $\\bPhi$ given a new datapoint `x`, posterior mean `m`, posterior variance `S` and a choice of model variance `beta`."
   ]
  },
  {
   "cell_type": "code",
   "execution_count": null,
   "metadata": {
    "deletable": false,
    "nbgrader": {
     "checksum": "45fb4bc1bc26e2e2865d96eee138c9db",
     "grade": false,
     "grade_id": "cell-865ac2a455500d4b",
     "locked": false,
     "schema_version": 1,
     "solution": true
    }
   },
   "outputs": [],
   "source": [
    "def predict_polynomial_bayes(x, m, S, beta):\n",
    "    # YOUR CODE HERE\n",
    "    raise NotImplementedError()\n",
    "    \n",
    "    return mean, sigma, Phi\n"
   ]
  },
  {
   "cell_type": "code",
   "execution_count": null,
   "metadata": {
    "deletable": false,
    "editable": false,
    "nbgrader": {
     "checksum": "6f36b9ca870925b0fc5229e429a95ca0",
     "grade": true,
     "grade_id": "cell-ecb92bcbe0131eb9",
     "locked": true,
     "points": 10,
     "schema_version": 1,
     "solution": false
    }
   },
   "outputs": [],
   "source": [
    "### Test your function\n",
    "np.random.seed(42)\n",
    "N = 10\n",
    "x = np.linspace(-1, 1, N)\n",
    "m = np.random.rand(3)\n",
    "S = np.random.rand(3, 3)\n",
    "beta = 16\n",
    "mean, sigma, Phi = predict_polynomial_bayes(x, m, S, beta)\n",
    "\n",
    "assert mean.shape == (N,), \"the shape of mean is incorrect\"\n",
    "assert sigma.shape == (N,), \"the shape of sigma is incorrect\"\n",
    "assert Phi.shape == (N, m.shape[0]), \"the shape of Phi is incorrect\"\n",
    "\n"
   ]
  },
  {
   "cell_type": "markdown",
   "metadata": {
    "deletable": false,
    "editable": false,
    "nbgrader": {
     "checksum": "114aa8aea4bd8ff01c7a07d803f14264",
     "grade": false,
     "grade_id": "cell-50452fe12b83c7ce",
     "locked": true,
     "schema_version": 1,
     "solution": false
    }
   },
   "source": [
    "### 2.4 Plot predictive distribution (10 points)\n",
    "\n",
    "a) (5 points) Generate 10 datapoints with `gen_sine2(10)`. Compute the posterior mean and covariance for a Bayesian polynomial regression model with $M=4$, $\\alpha=\\frac{2}{5}$ and $\\beta=\\frac{1}{0.25^2}$.\n",
    "Plot the Bayesian predictive distribution, where you plot (for $x$ between 0 and $2 \\pi$) $t$'s predictive mean and a 1-sigma predictive variance using `plt.fill_between(..., alpha=0.1)` (the alpha argument induces transparency).\n",
    "\n",
    "Include the datapoints in your plot.\n"
   ]
  },
  {
   "cell_type": "code",
   "execution_count": null,
   "metadata": {
    "deletable": false,
    "nbgrader": {
     "checksum": "4afe3760f68ff7c6b06f18b8e60c71a6",
     "grade": true,
     "grade_id": "cell-81339ee6f9873831",
     "locked": false,
     "points": 5,
     "schema_version": 1,
     "solution": true
    }
   },
   "outputs": [],
   "source": [
    "# YOUR CODE HERE\n",
    "raise NotImplementedError()"
   ]
  },
  {
   "cell_type": "markdown",
   "metadata": {
    "deletable": false,
    "editable": false,
    "nbgrader": {
     "checksum": "7ce5a14136b89a9d932d032d0cea9c0f",
     "grade": false,
     "grade_id": "cell-c556b2f5fcee8dee",
     "locked": true,
     "schema_version": 1,
     "solution": false
    }
   },
   "source": [
    "b) (5 points) For a second plot, draw 100 samples from the parameters' posterior distribution. Each of these samples is a certain choice of parameters for 4-th order polynomial regression. \n",
    "Display each of these 100 polynomials.\n"
   ]
  },
  {
   "cell_type": "code",
   "execution_count": null,
   "metadata": {
    "deletable": false,
    "nbgrader": {
     "checksum": "a6cbc9e5b0de9f7f9c847b1209275748",
     "grade": true,
     "grade_id": "cell-68cf4e7a773b42b9",
     "locked": false,
     "points": 5,
     "schema_version": 1,
     "solution": true
    }
   },
   "outputs": [],
   "source": [
    "# YOUR CODE HERE\n",
    "raise NotImplementedError()"
   ]
  },
  {
   "cell_type": "markdown",
   "metadata": {
    "deletable": false,
    "editable": false,
    "nbgrader": {
     "checksum": "6a3da91223f1176f94f57744bcab1fa2",
     "grade": false,
     "grade_id": "cell-4fdd4eca06d7b5d5",
     "locked": true,
     "schema_version": 1,
     "solution": false
    }
   },
   "source": [
    "### 2.5 Additional questions (10 points)\n",
    "\n",
    "a) (5 points) Why is $\\beta=\\frac{1}{0.25^2}$ the best choice of $\\beta$ in section 2.4?\n",
    "\n"
   ]
  },
  {
   "cell_type": "markdown",
   "metadata": {
    "deletable": false,
    "nbgrader": {
     "checksum": "16413525920dbbe3f4bfe717867204ba",
     "grade": true,
     "grade_id": "cell-ac9287d87d554547",
     "locked": false,
     "points": 5,
     "schema_version": 1,
     "solution": true
    }
   },
   "source": [
    "YOUR ANSWER HERE"
   ]
  },
  {
   "cell_type": "markdown",
   "metadata": {
    "deletable": false,
    "editable": false,
    "nbgrader": {
     "checksum": "5db5f599fe17da142e4a8d0632b2a42d",
     "grade": false,
     "grade_id": "cell-c3c65e3353057680",
     "locked": true,
     "schema_version": 1,
     "solution": false
    }
   },
   "source": [
    "b) (5 points) What problems do we face when it comes to choosing basis functions in linear models?"
   ]
  },
  {
   "cell_type": "markdown",
   "metadata": {
    "collapsed": true,
    "deletable": false,
    "nbgrader": {
     "checksum": "d28f3ba5fe296d03caca39c240fbb769",
     "grade": true,
     "grade_id": "cell-a3e38ba4c988b6a9",
     "locked": false,
     "points": 5,
     "schema_version": 1,
     "solution": true
    }
   },
   "source": [
    "YOUR ANSWER HERE"
   ]
  }
 ],
 "metadata": {
  "kernelspec": {
   "display_name": "Python [default]",
   "language": "python",
   "name": "python3"
  },
  "language_info": {
   "codemirror_mode": {
    "name": "ipython",
    "version": 3
   },
   "file_extension": ".py",
   "mimetype": "text/x-python",
   "name": "python",
   "nbconvert_exporter": "python",
   "pygments_lexer": "ipython3",
   "version": "3.6.2"
  }
 },
 "nbformat": 4,
 "nbformat_minor": 1
}
